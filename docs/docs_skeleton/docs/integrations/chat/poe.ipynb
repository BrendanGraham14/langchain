{
 "cells": [
  {
   "attachments": {},
   "cell_type": "markdown",
   "id": "e49f1e0d",
   "metadata": {},
   "source": [
    "# Poe\n",
    "\n",
    "This notebook covers how to build a Poe API Bot server using `ChatPoe` to call on other Poe bots."
   ]
  },
  {
   "cell_type": "code",
   "execution_count": 1,
   "id": "522686de",
   "metadata": {
    "tags": []
   },
   "outputs": [],
   "source": [
    "import asyncio\n",
    "from typing import AsyncIterable\n",
    "from langchain.callbacks import AsyncIteratorCallbackHandler\n",
    "from langchain.schema import AIMessage, HumanMessage, SystemMessage, BaseMessage\n",
    "from sse_starlette.sse import ServerSentEvent\n",
    "\n",
    "from fastapi_poe import PoeBot\n",
    "from fastapi_poe.types import QueryRequest, ProtocolMessage\n",
    "from langchain.chat_models import ChatPoe\n",
    "\n",
    "\n",
    "system_message = \"\"\"You are the CatBot. \\\n",
    "You will respond to every message as if you were a cat \\\n",
    "and will always stay in character as a lazy, easily distracted cat. \\\n",
    "Be verbose in your responses so that you get your point across.\"\"\"\n"
   ]
  },
  {
   "cell_type": "code",
   "execution_count": 2,
   "id": "47281095",
   "metadata": {},
   "outputs": [],
   "source": [
    "def _protocol_messages_to_langchain_messages(protocol_messages: list[ProtocolMessage]) -> list[BaseMessage]:\n",
    "    messages: list[BaseMessage] = [SystemMessage(content=system_message)]\n",
    "    for message in protocol_messages:\n",
    "        if message.role == \"bot\":\n",
    "            messages.append(AIMessage(content=message.content))\n",
    "        elif message.role == \"user\":\n",
    "            messages.append(HumanMessage(content=message.content))\n",
    "    return messages\n",
    "\n",
    "\n",
    "class LangChainPoeBot(PoeBot):\n",
    "    async def get_response(self, query: QueryRequest) -> AsyncIterable[ServerSentEvent]:\n",
    "        \"\"\"Stream bot responses to Poe.\"\"\"\n",
    "        handler = AsyncIteratorCallbackHandler()\n",
    "        chat_poe = ChatPoe(\n",
    "            bot_name=\"Assistant\",\n",
    "            api_key=query.api_key,\n",
    "            user_id=query.user_id,\n",
    "            conversation_id=query.conversation_id,\n",
    "            message_id=query.message_id,\n",
    "            version=query.version,\n",
    "            callbacks=[handler],\n",
    "        )\n",
    "\n",
    "        messages = _protocol_messages_to_langchain_messages(query.query)\n",
    "        asyncio.create_task(chat_poe.agenerate([messages]))\n",
    "        async for token in handler.aiter():\n",
    "            yield self.text_event(token)"
   ]
  },
  {
   "attachments": {},
   "cell_type": "markdown",
   "id": "c095285d",
   "metadata": {},
   "source": [
    "# Deploying the bot\n",
    "\n",
    "You can follow the instructions in the [Poe API docs](https://developer.poe.com/api-bots/quick-start) to deploy your bot and register it with Poe."
   ]
  }
 ],
 "metadata": {
  "kernelspec": {
   "display_name": "Python 3 (ipykernel)",
   "language": "python",
   "name": "python3"
  },
  "language_info": {
   "codemirror_mode": {
    "name": "ipython",
    "version": 3
   },
   "file_extension": ".py",
   "mimetype": "text/x-python",
   "name": "python",
   "nbconvert_exporter": "python",
   "pygments_lexer": "ipython3",
   "version": "3.9.14"
  }
 },
 "nbformat": 4,
 "nbformat_minor": 5
}
